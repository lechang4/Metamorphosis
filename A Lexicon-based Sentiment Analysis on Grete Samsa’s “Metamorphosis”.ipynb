{
 "cells": [
  {
   "cell_type": "code",
   "execution_count": 1,
   "id": "d09e971d",
   "metadata": {},
   "outputs": [],
   "source": [
    "import pandas as pd\n",
    "import spacy\n",
    "import matplotlib.pyplot as plt\n",
    "from spacy_sentiws import spaCySentiWS\n",
    "\n",
    "nlp = spacy.load(\"de_core_news_sm\")\n",
    "nlp.add_pipe('sentiws', config={'sentiws_path': '/Users/changle/SentiWS_v2.0'})"
   ]
  },
  {
   "cell_type": "code",
   "execution_count": null,
   "id": "14cec5a3",
   "metadata": {},
   "outputs": [],
   "source": [
    "with open(\"Die Verwandlung.txt\", \"r\", encoding=\"utf-8\") as file:\n",
    "    novel_text = file.read()\n",
    "\n",
    "novel_doc = nlp(novel_text)"
   ]
  },
  {
   "cell_type": "code",
   "execution_count": null,
   "id": "1e6b5eca",
   "metadata": {},
   "outputs": [],
   "source": [
    "keywords = ['Schwester', 'Schwesters', 'Grete']\n",
    "data = {'Sentence': [], 'Average Sentiment Score': [], 'Tokens with Sentiment': [], 'Sentence Position': []}\n",
    "\n",
    "for i, sentence in enumerate(novel_doc.sents):\n",
    "    for keyword in keywords:\n",
    "        if keyword.lower() in sentence.text.lower():\n",
    "            sentiment_scores_sentence = [token._.sentiws for token in sentence if not token.is_punct and token._.sentiws is not None]\n",
    "            average_sentiment = sum(sentiment_scores_sentence) / len(sentiment_scores_sentence) if sentiment_scores_sentence else None\n",
    "\n",
    "            if average_sentiment is not None and not pd.isna(average_sentiment):\n",
    "                tokens_with_sentiment = [(token.text, token._.sentiws) for token in sentence if not token.is_punct and token._.sentiws is not None]\n",
    "\n",
    "                data['Sentence'].append(sentence.text)\n",
    "                data['Average Sentiment Score'].append(average_sentiment)\n",
    "                data['Tokens with Sentiment'].append(tokens_with_sentiment)\n",
    "                data['Sentence Position'].append(i)\n",
    "\n",
    "                plt.scatter(i, average_sentiment, color='blue')"
   ]
  },
  {
   "cell_type": "code",
   "execution_count": null,
   "id": "4443b22a",
   "metadata": {},
   "outputs": [],
   "source": [
    "df = pd.DataFrame(data)\n",
    "df.to_excel('Grete_metamorphosis.xlsx', index=False)"
   ]
  },
  {
   "cell_type": "code",
   "execution_count": null,
   "id": "bba48c6f",
   "metadata": {},
   "outputs": [],
   "source": [
    "df_fixed = pd.read_excel('fixed_Grete_metamorphosis.xlsx')"
   ]
  },
  {
   "cell_type": "code",
   "execution_count": null,
   "id": "46ec67c3",
   "metadata": {},
   "outputs": [],
   "source": [
    "def calculate_sentiment(sentence):\n",
    "    doc = nlp(sentence)\n",
    "    sentiment_scores = [token._.sentiws for token in doc if not token.is_punct and token._.sentiws is not None]\n",
    "    tokens_with_sentiment = [(token.text, token._.sentiws) for token in doc if not token.is_punct and token._.sentiws is not None]\n",
    "    total_score = sum(sentiment_scores)\n",
    "    num_tokens_with_score = len(sentiment_scores)\n",
    "    return sentiment_scores, tokens_with_sentiment, total_score, num_tokens_with_score"
   ]
  },
  {
   "cell_type": "code",
   "execution_count": null,
   "id": "d0f20eb4",
   "metadata": {},
   "outputs": [],
   "source": [
    "df_fixed[['Sentiment Scores', 'Tokens With Sentiment', 'Total Score', 'Num Tokens With Score']] = df_fixed['Sentence'].apply(lambda x: pd.Series(calculate_sentiment(x)))"
   ]
  },
  {
   "cell_type": "code",
   "execution_count": null,
   "id": "780d0024",
   "metadata": {},
   "outputs": [],
   "source": [
    "df_fixed['Average Sentiment'] = df_fixed.apply(lambda row: row['Total Score'] / row['Num Tokens With Score'] if row['Num Tokens With Score'] != 0 else None, axis=1)"
   ]
  },
  {
   "cell_type": "code",
   "execution_count": null,
   "id": "0fdfcbe9",
   "metadata": {},
   "outputs": [],
   "source": [
    "df_fixed.to_excel('sentiws_before_revision.xlsx', index=False)"
   ]
  }
 ],
 "metadata": {
  "kernelspec": {
   "display_name": "Python 3 (ipykernel)",
   "language": "python",
   "name": "python3"
  },
  "language_info": {
   "codemirror_mode": {
    "name": "ipython",
    "version": 3
   },
   "file_extension": ".py",
   "mimetype": "text/x-python",
   "name": "python",
   "nbconvert_exporter": "python",
   "pygments_lexer": "ipython3",
   "version": "3.11.5"
  }
 },
 "nbformat": 4,
 "nbformat_minor": 5
}
